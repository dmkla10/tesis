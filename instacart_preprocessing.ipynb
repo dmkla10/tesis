{
 "cells": [
  {
   "cell_type": "code",
   "execution_count": 1,
   "id": "12526f57",
   "metadata": {},
   "outputs": [],
   "source": [
    "import pandas as pd\n",
    "import seaborn as sns\n",
    "import matplotlib.pyplot as plt\n",
    "import random"
   ]
  },
  {
   "cell_type": "code",
   "execution_count": 2,
   "id": "fb522ba8",
   "metadata": {},
   "outputs": [],
   "source": [
    "products = pd.read_csv(\"data_raw/instacart/products.csv\")\n",
    "orders = pd.read_csv(\"data_raw/instacart/orders.csv\")\n",
    "aisles = pd.read_csv(\"data_raw/instacart/aisles.csv\")\n",
    "departments = pd.read_csv(\"data_raw/instacart/departments.csv\")\n",
    "order_product = pd.read_csv(\"data_raw/instacart/order_products__prior.csv\")[[\"order_id\", \"product_id\"]]\n",
    "order_nproducts = order_product.groupby(\"order_id\", as_index=False).agg({\"product_id\":\"count\"}).rename(columns={\"product_id\":\"different_products\"})\n",
    "orders_prior = orders[orders[\"order_id\"].isin(order_nproducts[\"order_id\"].unique())].merge(order_nproducts, how=\"left\", left_on=\"order_id\", right_on=\"order_id\")\n",
    "orders_prior[\"lunes\"] = (orders_prior[\"order_dow\"] == 0).astype(int)\n",
    "orders_prior[\"martes\"] = (orders_prior[\"order_dow\"] == 1).astype(int)\n",
    "orders_prior[\"miercoles\"] = (orders_prior[\"order_dow\"] == 2).astype(int)\n",
    "orders_prior[\"jueves\"] = (orders_prior[\"order_dow\"] == 3).astype(int)\n",
    "orders_prior[\"viernes\"] = (orders_prior[\"order_dow\"] == 4).astype(int)\n",
    "orders_prior[\"sabado\"] = (orders_prior[\"order_dow\"] == 5).astype(int)\n",
    "orders_prior[\"domingo\"] = (orders_prior[\"order_dow\"] == 6).astype(int)\n",
    "orders_prior[\"am\"] = (orders_prior[\"order_hour_of_day\"] <12).astype(int)\n",
    "orders_prior[\"pm\"] = (orders_prior[\"order_hour_of_day\"] >= 12).astype(int)"
   ]
  },
  {
   "cell_type": "code",
   "execution_count": 3,
   "id": "149824aa",
   "metadata": {},
   "outputs": [],
   "source": [
    "# Cambiamos tipo de "
   ]
  },
  {
   "cell_type": "code",
   "execution_count": 4,
   "id": "61e4758e",
   "metadata": {},
   "outputs": [
    {
     "name": "stdout",
     "output_type": "stream",
     "text": [
      "Cantidad de boletas: 32434489\n",
      "Cantidad de productos: 49688\n"
     ]
    }
   ],
   "source": [
    "print(\"Cantidad de boletas: \" + str(len(order_product)))\n",
    "print(\"Cantidad de productos: \" + str(len(products[\"product_id\"])))"
   ]
  },
  {
   "cell_type": "code",
   "execution_count": 7,
   "id": "a56eac35",
   "metadata": {},
   "outputs": [
    {
     "data": {
      "text/plain": [
       "<Axes: xlabel='order_count', ylabel='Count'>"
      ]
     },
     "execution_count": 7,
     "metadata": {},
     "output_type": "execute_result"
    },
    {
     "data": {
      "image/png": "[encoded data removed]",
      "text/plain": [
       "<Figure size 640x480 with 1 Axes>"
      ]
     },
     "metadata": {},
     "output_type": "display_data"
    }
   ],
   "source": [
    "users = orders_prior.groupby(\"user_id\", as_index=False).agg({\"order_id\":\"count\", \"different_products\":\"max\"}).rename(columns={\"order_id\":\"order_count\"})\n",
    "#users=users[(users[\"order_count\"]<=10)]\n",
    "sns.histplot(users[\"order_count\"])"
   ]
  },
  {
   "cell_type": "code",
   "execution_count": 9,
   "id": "414d99c0",
   "metadata": {},
   "outputs": [
    {
     "name": "stdout",
     "output_type": "stream",
     "text": [
      "Cantidad de clientes originales:  206209\n",
      "Cantidad de productos en la muestra: 813\n",
      "Cantidad de boletas en la muestra: 208\n",
      "Cantidad de productos comprados: 1806\n",
      "Cantidad de clientes en la muestra:  15\n",
      "boletas * productos: 169104\n"
     ]
    }
   ],
   "source": [
    "random.seed(12345)\n",
    "print(\"Cantidad de clientes originales: \", str(len(orders_prior[\"user_id\"].unique())))\n",
    "users_sample = random.sample(users[\"user_id\"].unique().tolist(), 15)\n",
    "order_sample = orders_prior[orders_prior[\"user_id\"].isin(users_sample)][\"order_id\"].unique()\n",
    "op_sample = order_product[(order_product[\"order_id\"].isin(order_sample))].copy()\n",
    "\n",
    "print(\"Cantidad de productos en la muestra: \" + str(len(op_sample.product_id.unique())))\n",
    "print(\"Cantidad de boletas en la muestra: \" + str(len(order_sample)))\n",
    "op_count = op_sample.groupby([\"order_id\"], as_index=False).agg({\"product_id\":\"count\"}).rename(columns={\"product_id\":\"product_count\"})\n",
    "print(\"Cantidad de productos comprados: \" + str(op_count[\"product_count\"].sum()))\n",
    "\n",
    "products_sample = products[products[\"product_id\"].isin(op_sample[\"product_id\"].unique())].copy()\n",
    "orders_sample = orders_prior[orders_prior[\"order_id\"].isin(order_sample)].copy()\n",
    "\n",
    "# Reiniciamos los id de los samples\n",
    "products_sample[\"product_id_old\"] = products_sample[\"product_id\"]\n",
    "products_sample = products_sample.reset_index(drop=True)\n",
    "products_sample[\"product_id\"] = range(1, len(products_sample) + 1)\n",
    "\n",
    "products_sample[\"department_id_old\"] = products_sample[\"department_id\"]\n",
    "products_sample[\"department_id\"] = pd.factorize(products_sample[\"department_id\"])[0] + 1\n",
    "\n",
    "products_sample[\"aisle_id_old\"] = products_sample[\"aisle_id\"]\n",
    "products_sample[\"aisle_id\"] = pd.factorize(products_sample[\"aisle_id\"])[0] + 1\n",
    "\n",
    "orders_sample[\"order_id_old\"] = orders_sample[\"order_id\"]\n",
    "orders_sample = orders_sample.reset_index(drop=True)\n",
    "orders_sample[\"order_id\"] = range(1, len(orders_sample) + 1)\n",
    "\n",
    "user_map = {users_sample[i]:i+1 for i in range(len(users_sample))}\n",
    "orders_sample[\"user_id\"] = orders_sample[\"user_id\"].map(user_map)\n",
    "\n",
    "op_sample[\"order_id_old\"] = op_sample[\"order_id\"]\n",
    "op_sample[\"product_id_old\"] = op_sample[\"product_id\"]\n",
    "\n",
    "op_sample.drop(columns=[\"order_id\", \"product_id\"], inplace=True)\n",
    "\n",
    "op_sample = op_sample.merge(how=\"left\", right=orders_sample[[\"order_id\", \"order_id_old\"]], on=\"order_id_old\")\n",
    "op_sample = op_sample.merge(how=\"left\", right=products_sample[[\"product_id\", \"product_id_old\"]], on=\"product_id_old\")\n",
    "op_sample.drop(columns=[\"order_id_old\", \"product_id_old\"], inplace=True)\n",
    "\n",
    "print(\"Cantidad de clientes en la muestra: \", str(len(orders_sample[\"user_id\"].unique())))\n",
    "products_sample = products_sample.merge(aisles, how=\"left\", on=\"aisle_id\").merge(departments, how=\"left\", on=\"department_id\")[[\"product_id\", \"product_name\", \"aisle\", \"department\", \"aisle_id\"]]\n",
    "orders_sample = orders_sample[[\"order_id\", \"user_id\", \"order_number\", \"lunes\", \"martes\", \"miercoles\", \"jueves\", \"viernes\", \"sabado\",\"domingo\", \"am\", \"pm\"]]\n",
    "\n",
    "print(\"boletas * productos: \" + str(len(order_sample)*len(op_sample.product_id.unique())))"
   ]
  },
  {
   "cell_type": "code",
   "execution_count": 10,
   "id": "c317bd72",
   "metadata": {},
   "outputs": [
    {
     "data": {
      "image/png": "[encoded data removed]",
      "text/plain": [
       "<Figure size 640x480 with 1 Axes>"
      ]
     },
     "metadata": {},
     "output_type": "display_data"
    }
   ],
   "source": [
    "sns.histplot(op_count[\"product_count\"], discrete=True)\n",
    "plt.title(\"Cantidad de productos por boleta\")\n",
    "plt.show()"
   ]
  },
  {
   "cell_type": "code",
   "execution_count": 11,
   "id": "51b29e35",
   "metadata": {},
   "outputs": [
    {
     "data": {
      "image/png": "[encoded data removed]",
      "text/plain": [
       "<Figure size 640x480 with 1 Axes>"
      ]
     },
     "metadata": {},
     "output_type": "display_data"
    }
   ],
   "source": [
    "product_baskets = op_sample.groupby([\"product_id\"], as_index=False).agg({\"order_id\":\"count\"}).rename(columns={\"order_id\":\"n_orders\"})\n",
    "product_baskets[\"relative_orders\"] = product_baskets[\"n_orders\"]/len(op_sample.order_id.unique())\n",
    "product_baskets = product_baskets.merge(right=products, left_on=\"product_id\", right_on=\"product_id\", how=\"left\")\n",
    "sns.histplot(product_baskets[product_baskets[\"n_orders\"]<=50][\"n_orders\"], discrete=True)\n",
    "plt.title(\"Cantidad de boletas por producto\")\n",
    "plt.show()"
   ]
  },
  {
   "cell_type": "code",
   "execution_count": 12,
   "id": "15908ab6",
   "metadata": {},
   "outputs": [
    {
     "data": {
      "text/plain": [
       "<Axes: xlabel='order_count', ylabel='Count'>"
      ]
     },
     "execution_count": 12,
     "metadata": {},
     "output_type": "execute_result"
    },
    {
     "data": {
      "image/png": "[encoded data removed]",
      "text/plain": [
       "<Figure size 640x480 with 1 Axes>"
      ]
     },
     "metadata": {},
     "output_type": "display_data"
    }
   ],
   "source": [
    "users_sample = orders_sample.groupby(\"user_id\", as_index=False).agg({\"order_id\":\"count\",\"am\":\"mean\", \"pm\":\"mean\", \"lunes\":\"mean\", \"miercoles\":\"mean\", \"viernes\":\"mean\", \"domingo\":\"mean\"}).rename(columns={\"order_id\":\"order_count\"})\n",
    "sns.histplot(users_sample[users_sample[\"order_count\"]>1][\"order_count\"])"
   ]
  },
  {
   "cell_type": "code",
   "execution_count": 13,
   "id": "f409f805",
   "metadata": {},
   "outputs": [],
   "source": [
    "orders_sample.to_csv(\"data/instacart/orders_sample.csv\", index=False)\n",
    "products_sample.to_csv(\"data/instacart/products_sample.csv\", index=False)\n",
    "op_sample.to_csv(\"data/instacart/order_product_sample.csv\", index=False)"
   ]
  },
  {
   "cell_type": "code",
   "execution_count": 14,
   "id": "77a5ddae",
   "metadata": {},
   "outputs": [
    {
     "data": {
      "text/html": [
       "<div>\n",
       "<style scoped>\n",
       "    .dataframe tbody tr th:only-of-type {\n",
       "        vertical-align: middle;\n",
       "    }\n",
       "\n",
       "    .dataframe tbody tr th {\n",
       "        vertical-align: top;\n",
       "    }\n",
       "\n",
       "    .dataframe thead th {\n",
       "        text-align: right;\n",
       "    }\n",
       "</style>\n",
       "<table border=\"1\" class=\"dataframe\">\n",
       "  <thead>\n",
       "    <tr style=\"text-align: right;\">\n",
       "      <th></th>\n",
       "      <th>product_id</th>\n",
       "      <th>product_name</th>\n",
       "      <th>aisle</th>\n",
       "      <th>department</th>\n",
       "      <th>aisle_id</th>\n",
       "    </tr>\n",
       "  </thead>\n",
       "  <tbody>\n",
       "    <tr>\n",
       "      <th>0</th>\n",
       "      <td>1</td>\n",
       "      <td>Classics Earl Grey Tea</td>\n",
       "      <td>prepared soups salads</td>\n",
       "      <td>frozen</td>\n",
       "      <td>1</td>\n",
       "    </tr>\n",
       "    <tr>\n",
       "      <th>1</th>\n",
       "      <td>2</td>\n",
       "      <td>100% Recycled Aluminum Foil</td>\n",
       "      <td>specialty cheeses</td>\n",
       "      <td>other</td>\n",
       "      <td>2</td>\n",
       "    </tr>\n",
       "    <tr>\n",
       "      <th>2</th>\n",
       "      <td>3</td>\n",
       "      <td>Dried Sweetened Cranberries</td>\n",
       "      <td>energy granola bars</td>\n",
       "      <td>bakery</td>\n",
       "      <td>3</td>\n",
       "    </tr>\n",
       "    <tr>\n",
       "      <th>3</th>\n",
       "      <td>4</td>\n",
       "      <td>Instant Mashed Potatoes</td>\n",
       "      <td>instant foods</td>\n",
       "      <td>produce</td>\n",
       "      <td>4</td>\n",
       "    </tr>\n",
       "    <tr>\n",
       "      <th>4</th>\n",
       "      <td>5</td>\n",
       "      <td>Garnet Sweet Potato (Yam)</td>\n",
       "      <td>marinades meat preparation</td>\n",
       "      <td>alcohol</td>\n",
       "      <td>5</td>\n",
       "    </tr>\n",
       "  </tbody>\n",
       "</table>\n",
       "</div>"
      ],
      "text/plain": [
       "   product_id                 product_name                       aisle  \\\n",
       "0           1       Classics Earl Grey Tea       prepared soups salads   \n",
       "1           2  100% Recycled Aluminum Foil           specialty cheeses   \n",
       "2           3  Dried Sweetened Cranberries         energy granola bars   \n",
       "3           4      Instant Mashed Potatoes               instant foods   \n",
       "4           5    Garnet Sweet Potato (Yam)  marinades meat preparation   \n",
       "\n",
       "  department  aisle_id  \n",
       "0     frozen         1  \n",
       "1      other         2  \n",
       "2     bakery         3  \n",
       "3    produce         4  \n",
       "4    alcohol         5  "
      ]
     },
     "execution_count": 14,
     "metadata": {},
     "output_type": "execute_result"
    }
   ],
   "source": [
    "products_sample.head()"
   ]
  },
  {
   "cell_type": "code",
   "execution_count": 15,
   "id": "a814068f",
   "metadata": {},
   "outputs": [
    {
     "data": {
      "text/html": [
       "<div>\n",
       "<style scoped>\n",
       "    .dataframe tbody tr th:only-of-type {\n",
       "        vertical-align: middle;\n",
       "    }\n",
       "\n",
       "    .dataframe tbody tr th {\n",
       "        vertical-align: top;\n",
       "    }\n",
       "\n",
       "    .dataframe thead th {\n",
       "        text-align: right;\n",
       "    }\n",
       "</style>\n",
       "<table border=\"1\" class=\"dataframe\">\n",
       "  <thead>\n",
       "    <tr style=\"text-align: right;\">\n",
       "      <th></th>\n",
       "      <th>order_id</th>\n",
       "      <th>user_id</th>\n",
       "      <th>order_number</th>\n",
       "      <th>lunes</th>\n",
       "      <th>martes</th>\n",
       "      <th>miercoles</th>\n",
       "      <th>jueves</th>\n",
       "      <th>viernes</th>\n",
       "      <th>sabado</th>\n",
       "      <th>domingo</th>\n",
       "      <th>am</th>\n",
       "      <th>pm</th>\n",
       "    </tr>\n",
       "  </thead>\n",
       "  <tbody>\n",
       "    <tr>\n",
       "      <th>0</th>\n",
       "      <td>1</td>\n",
       "      <td>3</td>\n",
       "      <td>1</td>\n",
       "      <td>1</td>\n",
       "      <td>0</td>\n",
       "      <td>0</td>\n",
       "      <td>0</td>\n",
       "      <td>0</td>\n",
       "      <td>0</td>\n",
       "      <td>0</td>\n",
       "      <td>0</td>\n",
       "      <td>1</td>\n",
       "    </tr>\n",
       "    <tr>\n",
       "      <th>1</th>\n",
       "      <td>2</td>\n",
       "      <td>3</td>\n",
       "      <td>2</td>\n",
       "      <td>1</td>\n",
       "      <td>0</td>\n",
       "      <td>0</td>\n",
       "      <td>0</td>\n",
       "      <td>0</td>\n",
       "      <td>0</td>\n",
       "      <td>0</td>\n",
       "      <td>0</td>\n",
       "      <td>1</td>\n",
       "    </tr>\n",
       "    <tr>\n",
       "      <th>2</th>\n",
       "      <td>3</td>\n",
       "      <td>3</td>\n",
       "      <td>3</td>\n",
       "      <td>0</td>\n",
       "      <td>0</td>\n",
       "      <td>1</td>\n",
       "      <td>0</td>\n",
       "      <td>0</td>\n",
       "      <td>0</td>\n",
       "      <td>0</td>\n",
       "      <td>0</td>\n",
       "      <td>1</td>\n",
       "    </tr>\n",
       "    <tr>\n",
       "      <th>3</th>\n",
       "      <td>4</td>\n",
       "      <td>3</td>\n",
       "      <td>4</td>\n",
       "      <td>0</td>\n",
       "      <td>1</td>\n",
       "      <td>0</td>\n",
       "      <td>0</td>\n",
       "      <td>0</td>\n",
       "      <td>0</td>\n",
       "      <td>0</td>\n",
       "      <td>0</td>\n",
       "      <td>1</td>\n",
       "    </tr>\n",
       "    <tr>\n",
       "      <th>4</th>\n",
       "      <td>5</td>\n",
       "      <td>12</td>\n",
       "      <td>1</td>\n",
       "      <td>0</td>\n",
       "      <td>0</td>\n",
       "      <td>1</td>\n",
       "      <td>0</td>\n",
       "      <td>0</td>\n",
       "      <td>0</td>\n",
       "      <td>0</td>\n",
       "      <td>1</td>\n",
       "      <td>0</td>\n",
       "    </tr>\n",
       "  </tbody>\n",
       "</table>\n",
       "</div>"
      ],
      "text/plain": [
       "   order_id  user_id  order_number  lunes  martes  miercoles  jueves  viernes  \\\n",
       "0         1        3             1      1       0          0       0        0   \n",
       "1         2        3             2      1       0          0       0        0   \n",
       "2         3        3             3      0       0          1       0        0   \n",
       "3         4        3             4      0       1          0       0        0   \n",
       "4         5       12             1      0       0          1       0        0   \n",
       "\n",
       "   sabado  domingo  am  pm  \n",
       "0       0        0   0   1  \n",
       "1       0        0   0   1  \n",
       "2       0        0   0   1  \n",
       "3       0        0   0   1  \n",
       "4       0        0   1   0  "
      ]
     },
     "execution_count": 15,
     "metadata": {},
     "output_type": "execute_result"
    }
   ],
   "source": [
    "orders_sample.head()"
   ]
  },
  {
   "cell_type": "code",
   "execution_count": 16,
   "id": "fc4999e9",
   "metadata": {},
   "outputs": [
    {
     "data": {
      "text/html": [
       "<div>\n",
       "<style scoped>\n",
       "    .dataframe tbody tr th:only-of-type {\n",
       "        vertical-align: middle;\n",
       "    }\n",
       "\n",
       "    .dataframe tbody tr th {\n",
       "        vertical-align: top;\n",
       "    }\n",
       "\n",
       "    .dataframe thead th {\n",
       "        text-align: right;\n",
       "    }\n",
       "</style>\n",
       "<table border=\"1\" class=\"dataframe\">\n",
       "  <thead>\n",
       "    <tr style=\"text-align: right;\">\n",
       "      <th></th>\n",
       "      <th>order_id</th>\n",
       "      <th>product_id</th>\n",
       "    </tr>\n",
       "  </thead>\n",
       "  <tbody>\n",
       "    <tr>\n",
       "      <th>0</th>\n",
       "      <td>77</td>\n",
       "      <td>419</td>\n",
       "    </tr>\n",
       "    <tr>\n",
       "      <th>1</th>\n",
       "      <td>77</td>\n",
       "      <td>10</td>\n",
       "    </tr>\n",
       "    <tr>\n",
       "      <th>2</th>\n",
       "      <td>122</td>\n",
       "      <td>746</td>\n",
       "    </tr>\n",
       "    <tr>\n",
       "      <th>3</th>\n",
       "      <td>122</td>\n",
       "      <td>69</td>\n",
       "    </tr>\n",
       "    <tr>\n",
       "      <th>4</th>\n",
       "      <td>10</td>\n",
       "      <td>773</td>\n",
       "    </tr>\n",
       "  </tbody>\n",
       "</table>\n",
       "</div>"
      ],
      "text/plain": [
       "   order_id  product_id\n",
       "0        77         419\n",
       "1        77          10\n",
       "2       122         746\n",
       "3       122          69\n",
       "4        10         773"
      ]
     },
     "execution_count": 16,
     "metadata": {},
     "output_type": "execute_result"
    }
   ],
   "source": [
    "op_sample.head()"
   ]
  },
  {
   "cell_type": "code",
   "execution_count": 17,
   "id": "e44a5180",
   "metadata": {},
   "outputs": [
    {
     "data": {
      "text/plain": [
       "np.int64(0)"
      ]
     },
     "execution_count": 17,
     "metadata": {},
     "output_type": "execute_result"
    }
   ],
   "source": [
    "pc_sample = op_sample.groupby(\"product_id\", as_index=False).agg({\"order_id\":\"count\"}).rename(columns={\"order_id\":\"n_orders\"})\n",
    "pc_sample[pc_sample[\"n_orders\"]==0].product_id.count()"
   ]
  },
  {
   "cell_type": "code",
   "execution_count": 18,
   "id": "9b32984a",
   "metadata": {},
   "outputs": [
    {
     "data": {
      "text/html": [
       "<div>\n",
       "<style scoped>\n",
       "    .dataframe tbody tr th:only-of-type {\n",
       "        vertical-align: middle;\n",
       "    }\n",
       "\n",
       "    .dataframe tbody tr th {\n",
       "        vertical-align: top;\n",
       "    }\n",
       "\n",
       "    .dataframe thead th {\n",
       "        text-align: right;\n",
       "    }\n",
       "</style>\n",
       "<table border=\"1\" class=\"dataframe\">\n",
       "  <thead>\n",
       "    <tr style=\"text-align: right;\">\n",
       "      <th></th>\n",
       "      <th>order_id</th>\n",
       "      <th>product_id</th>\n",
       "    </tr>\n",
       "  </thead>\n",
       "  <tbody>\n",
       "    <tr>\n",
       "      <th>0</th>\n",
       "      <td>77</td>\n",
       "      <td>419</td>\n",
       "    </tr>\n",
       "    <tr>\n",
       "      <th>1</th>\n",
       "      <td>77</td>\n",
       "      <td>10</td>\n",
       "    </tr>\n",
       "    <tr>\n",
       "      <th>2</th>\n",
       "      <td>122</td>\n",
       "      <td>746</td>\n",
       "    </tr>\n",
       "    <tr>\n",
       "      <th>3</th>\n",
       "      <td>122</td>\n",
       "      <td>69</td>\n",
       "    </tr>\n",
       "    <tr>\n",
       "      <th>4</th>\n",
       "      <td>10</td>\n",
       "      <td>773</td>\n",
       "    </tr>\n",
       "    <tr>\n",
       "      <th>...</th>\n",
       "      <td>...</td>\n",
       "      <td>...</td>\n",
       "    </tr>\n",
       "    <tr>\n",
       "      <th>1801</th>\n",
       "      <td>127</td>\n",
       "      <td>760</td>\n",
       "    </tr>\n",
       "    <tr>\n",
       "      <th>1802</th>\n",
       "      <td>160</td>\n",
       "      <td>715</td>\n",
       "    </tr>\n",
       "    <tr>\n",
       "      <th>1803</th>\n",
       "      <td>160</td>\n",
       "      <td>40</td>\n",
       "    </tr>\n",
       "    <tr>\n",
       "      <th>1804</th>\n",
       "      <td>160</td>\n",
       "      <td>112</td>\n",
       "    </tr>\n",
       "    <tr>\n",
       "      <th>1805</th>\n",
       "      <td>160</td>\n",
       "      <td>778</td>\n",
       "    </tr>\n",
       "  </tbody>\n",
       "</table>\n",
       "<p>1806 rows × 2 columns</p>\n",
       "</div>"
      ],
      "text/plain": [
       "      order_id  product_id\n",
       "0           77         419\n",
       "1           77          10\n",
       "2          122         746\n",
       "3          122          69\n",
       "4           10         773\n",
       "...        ...         ...\n",
       "1801       127         760\n",
       "1802       160         715\n",
       "1803       160          40\n",
       "1804       160         112\n",
       "1805       160         778\n",
       "\n",
       "[1806 rows x 2 columns]"
      ]
     },
     "execution_count": 18,
     "metadata": {},
     "output_type": "execute_result"
    }
   ],
   "source": [
    "op_sample"
   ]
  }
 ],
 "metadata": {
  "kernelspec": {
   "display_name": ".venv",
   "language": "python",
   "name": "python3"
  },
  "language_info": {
   "codemirror_mode": {
    "name": "ipython",
    "version": 3
   },
   "file_extension": ".py",
   "mimetype": "text/x-python",
   "name": "python",
   "nbconvert_exporter": "python",
   "pygments_lexer": "ipython3",
   "version": "3.12.1"
  }
 },
 "nbformat": 4,
 "nbformat_minor": 5
}
