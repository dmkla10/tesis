{
 "cells": [
  {
   "cell_type": "code",
   "execution_count": 1,
   "id": "239c9fe7",
   "metadata": {},
   "outputs": [
    {
     "name": "stderr",
     "output_type": "stream",
     "text": [
      "01:54:32 - cmdstanpy - INFO - Add C++ toolchain to $PATH: C:\\Users\\dimot\\.cmdstan\\RTools40\n"
     ]
    },
    {
     "name": "stdout",
     "output_type": "stream",
     "text": [
      "CmdStan install directory: C:\\Users\\dimot\\.cmdstan\n",
      "CmdStan version 2.36.0 already installed\n",
      "Test model compilation\n"
     ]
    },
    {
     "data": {
      "text/plain": [
       "True"
      ]
     },
     "execution_count": 1,
     "metadata": {},
     "output_type": "execute_result"
    }
   ],
   "source": [
    "import pandas as pd\n",
    "import matplotlib.pyplot as plt\n",
    "import seaborn as sns\n",
    "import cmdstanpy\n",
    "import numpy as np\n",
    "import cmdstanpy\n",
    "cmdstanpy.install_cmdstan(compiler=True)"
   ]
  },
  {
   "cell_type": "code",
   "execution_count": 2,
   "id": "8df9e506",
   "metadata": {},
   "outputs": [],
   "source": [
    "op_sample = pd.read_csv(\"data/instacart/order_product_sample.csv\")\n",
    "o_sample = pd.read_csv(\"data/instacart/orders_sample.csv\")\n",
    "p_sample = pd.read_csv(\"data/instacart/products_sample.csv\")"
   ]
  },
  {
   "cell_type": "code",
   "execution_count": 3,
   "id": "7ea66807",
   "metadata": {},
   "outputs": [],
   "source": [
    "products = p_sample[\"product_id\"].to_numpy()\n",
    "orders = o_sample[\"order_id\"].tolist()\n",
    "\n",
    "n_products = len(products)\n",
    "av0 = np.ones(n_products)\n",
    "\n",
    "y = []\n",
    "u = []\n",
    "a = []\n",
    "\n",
    "baskets = (\n",
    "    op_sample\n",
    "    .groupby(\"order_id\")\n",
    "    .agg({\"product_id\": list})\n",
    ")\n",
    "\n",
    "baskets.product_id = baskets.product_id.apply(lambda x: np.array(x))\n",
    "\n",
    "order_to_basket = baskets.to_dict()[\"product_id\"]\n",
    "order_to_user = o_sample.groupby([\"order_id\"]).agg({\"user_id\":\"first\"}).to_dict()[\"user_id\"]\n",
    "\n",
    "for order in orders[0:1000]:\n",
    "    basket = order_to_basket[order]\n",
    "    item = basket[0]\n",
    "    other = basket[1:]\n",
    "\n",
    "    user = order_to_user[order]\n",
    "\n",
    "    av = av0.copy()\n",
    "    av[other-1] = 0\n",
    "\n",
    "    y.append(item)\n",
    "    u.append(user)\n",
    "    a.append(av)\n",
    "\n",
    "K = len(p_sample[\"product_id\"].unique())\n",
    "N = len(y)\n",
    "U = len(o_sample.user_id.unique())\n",
    "\n",
    "cmdstanpy.write_stan_json(\"stan_models/data.json\", {\"K\":K, \"N\":N, \"U\":U, \"y\":y, \"uu\":u})"
   ]
  },
  {
   "cell_type": "code",
   "execution_count": 4,
   "id": "dc56210a",
   "metadata": {},
   "outputs": [
    {
     "name": "stderr",
     "output_type": "stream",
     "text": [
      "01:55:35 - cmdstanpy - INFO - compiling stan file C:\\Users\\dimot\\Documents\\Universidad\\tesis\\tesis\\stan_models\\multinomial_logit.stan to exe file C:\\Users\\dimot\\Documents\\Universidad\\tesis\\tesis\\stan_models\\multinomial_logit.exe\n",
      "01:55:47 - cmdstanpy - INFO - compiled model executable: C:\\Users\\dimot\\Documents\\Universidad\\tesis\\tesis\\stan_models\\multinomial_logit.exe\n",
      "01:55:47 - cmdstanpy - INFO - CmdStan start processing\n"
     ]
    },
    {
     "data": {
      "application/vnd.jupyter.widget-view+json": {
       "model_id": "0162e15791b74ff7996b85070f99662f",
       "version_major": 2,
       "version_minor": 0
      },
      "text/plain": [
       "chain 1 |          | 00:00 Status"
      ]
     },
     "metadata": {},
     "output_type": "display_data"
    },
    {
     "data": {
      "application/vnd.jupyter.widget-view+json": {
       "model_id": "29bca36d58584887855e0315caeb7178",
       "version_major": 2,
       "version_minor": 0
      },
      "text/plain": [
       "chain 2 |          | 00:00 Status"
      ]
     },
     "metadata": {},
     "output_type": "display_data"
    },
    {
     "data": {
      "application/vnd.jupyter.widget-view+json": {
       "model_id": "e3e1a9e9b43a49629328f6f6adb15faf",
       "version_major": 2,
       "version_minor": 0
      },
      "text/plain": [
       "chain 3 |          | 00:00 Status"
      ]
     },
     "metadata": {},
     "output_type": "display_data"
    },
    {
     "data": {
      "application/vnd.jupyter.widget-view+json": {
       "model_id": "884f2b528398449eb3b89b5011219853",
       "version_major": 2,
       "version_minor": 0
      },
      "text/plain": [
       "chain 4 |          | 00:00 Status"
      ]
     },
     "metadata": {},
     "output_type": "display_data"
    },
    {
     "name": "stdout",
     "output_type": "stream",
     "text": [
      "                                                                                                                                                                                                                                                                                                                                "
     ]
    },
    {
     "name": "stderr",
     "output_type": "stream",
     "text": [
      "02:04:41 - cmdstanpy - INFO - CmdStan done processing.\n"
     ]
    },
    {
     "name": "stdout",
     "output_type": "stream",
     "text": [
      "\n"
     ]
    }
   ],
   "source": [
    "from cmdstanpy import CmdStanModel\n",
    "import os\n",
    "\n",
    "stan_model = CmdStanModel(stan_file=os.path.join(\"stan_models\",'multinomial_logit.stan'), force_compile=True)\n",
    "\n",
    "fit = stan_model.sample(\n",
    "    data=\"stan_models/data.json\",\n",
    "    chains=4,\n",
    "    iter_sampling=1000,\n",
    "    iter_warmup=500,\n",
    "    seed=12345#, show_console=True\n",
    ")"
   ]
  },
  {
   "cell_type": "code",
   "execution_count": 13,
   "id": "eb3ce43e",
   "metadata": {},
   "outputs": [],
   "source": [
    "param_summary = fit.summary()"
   ]
  },
  {
   "cell_type": "code",
   "execution_count": 22,
   "id": "9f5f79e3",
   "metadata": {},
   "outputs": [
    {
     "data": {
      "text/html": [
       "<div>\n",
       "<style scoped>\n",
       "    .dataframe tbody tr th:only-of-type {\n",
       "        vertical-align: middle;\n",
       "    }\n",
       "\n",
       "    .dataframe tbody tr th {\n",
       "        vertical-align: top;\n",
       "    }\n",
       "\n",
       "    .dataframe thead th {\n",
       "        text-align: right;\n",
       "    }\n",
       "</style>\n",
       "<table border=\"1\" class=\"dataframe\">\n",
       "  <thead>\n",
       "    <tr style=\"text-align: right;\">\n",
       "      <th></th>\n",
       "      <th>Mean</th>\n",
       "      <th>MCSE</th>\n",
       "      <th>StdDev</th>\n",
       "      <th>MAD</th>\n",
       "      <th>5%</th>\n",
       "      <th>50%</th>\n",
       "      <th>95%</th>\n",
       "      <th>ESS_bulk</th>\n",
       "      <th>ESS_tail</th>\n",
       "      <th>R_hat</th>\n",
       "    </tr>\n",
       "  </thead>\n",
       "  <tbody>\n",
       "    <tr>\n",
       "      <th>u_alpha[1]</th>\n",
       "      <td>-0.023379</td>\n",
       "      <td>0.074523</td>\n",
       "      <td>5.04577</td>\n",
       "      <td>4.95809</td>\n",
       "      <td>-8.23995</td>\n",
       "      <td>0.044327</td>\n",
       "      <td>8.13835</td>\n",
       "      <td>4537.72</td>\n",
       "      <td>2815.92</td>\n",
       "      <td>0.999956</td>\n",
       "    </tr>\n",
       "    <tr>\n",
       "      <th>u_alpha[2]</th>\n",
       "      <td>0.007868</td>\n",
       "      <td>0.073826</td>\n",
       "      <td>5.09773</td>\n",
       "      <td>5.22023</td>\n",
       "      <td>-8.40797</td>\n",
       "      <td>0.133647</td>\n",
       "      <td>8.21253</td>\n",
       "      <td>4815.97</td>\n",
       "      <td>2886.63</td>\n",
       "      <td>1.000470</td>\n",
       "    </tr>\n",
       "    <tr>\n",
       "      <th>u_alpha[3]</th>\n",
       "      <td>-0.098416</td>\n",
       "      <td>0.069473</td>\n",
       "      <td>5.05943</td>\n",
       "      <td>5.02425</td>\n",
       "      <td>-8.29325</td>\n",
       "      <td>-0.117924</td>\n",
       "      <td>8.16219</td>\n",
       "      <td>5339.64</td>\n",
       "      <td>2775.42</td>\n",
       "      <td>1.001250</td>\n",
       "    </tr>\n",
       "    <tr>\n",
       "      <th>u_alpha[4]</th>\n",
       "      <td>-0.038635</td>\n",
       "      <td>0.062415</td>\n",
       "      <td>5.03748</td>\n",
       "      <td>5.09103</td>\n",
       "      <td>-8.21872</td>\n",
       "      <td>-0.001939</td>\n",
       "      <td>8.20992</td>\n",
       "      <td>6433.37</td>\n",
       "      <td>2971.71</td>\n",
       "      <td>1.002020</td>\n",
       "    </tr>\n",
       "    <tr>\n",
       "      <th>u_alpha[5]</th>\n",
       "      <td>-0.077231</td>\n",
       "      <td>0.069146</td>\n",
       "      <td>4.74783</td>\n",
       "      <td>4.69010</td>\n",
       "      <td>-7.91586</td>\n",
       "      <td>-0.097586</td>\n",
       "      <td>7.70797</td>\n",
       "      <td>4754.00</td>\n",
       "      <td>2763.85</td>\n",
       "      <td>1.003490</td>\n",
       "    </tr>\n",
       "    <tr>\n",
       "      <th>u_alpha[6]</th>\n",
       "      <td>-0.015331</td>\n",
       "      <td>0.066825</td>\n",
       "      <td>4.97393</td>\n",
       "      <td>4.97787</td>\n",
       "      <td>-8.27360</td>\n",
       "      <td>0.012158</td>\n",
       "      <td>8.19278</td>\n",
       "      <td>5586.62</td>\n",
       "      <td>2773.07</td>\n",
       "      <td>0.999377</td>\n",
       "    </tr>\n",
       "    <tr>\n",
       "      <th>u_alpha[7]</th>\n",
       "      <td>0.030025</td>\n",
       "      <td>0.071406</td>\n",
       "      <td>4.89274</td>\n",
       "      <td>4.87237</td>\n",
       "      <td>-7.93444</td>\n",
       "      <td>0.080379</td>\n",
       "      <td>7.95859</td>\n",
       "      <td>4735.29</td>\n",
       "      <td>2970.25</td>\n",
       "      <td>1.000240</td>\n",
       "    </tr>\n",
       "    <tr>\n",
       "      <th>u_alpha[8]</th>\n",
       "      <td>-0.020090</td>\n",
       "      <td>0.077617</td>\n",
       "      <td>5.17444</td>\n",
       "      <td>5.16111</td>\n",
       "      <td>-8.35262</td>\n",
       "      <td>-0.050135</td>\n",
       "      <td>8.71098</td>\n",
       "      <td>4464.99</td>\n",
       "      <td>2723.02</td>\n",
       "      <td>1.000090</td>\n",
       "    </tr>\n",
       "    <tr>\n",
       "      <th>u_alpha[9]</th>\n",
       "      <td>0.148045</td>\n",
       "      <td>0.066824</td>\n",
       "      <td>4.87772</td>\n",
       "      <td>4.93652</td>\n",
       "      <td>-7.87756</td>\n",
       "      <td>0.169533</td>\n",
       "      <td>8.00950</td>\n",
       "      <td>5370.03</td>\n",
       "      <td>3297.26</td>\n",
       "      <td>1.000800</td>\n",
       "    </tr>\n",
       "    <tr>\n",
       "      <th>u_alpha[10]</th>\n",
       "      <td>-0.012971</td>\n",
       "      <td>0.066633</td>\n",
       "      <td>4.92181</td>\n",
       "      <td>4.83816</td>\n",
       "      <td>-8.19841</td>\n",
       "      <td>0.014459</td>\n",
       "      <td>8.26272</td>\n",
       "      <td>5481.37</td>\n",
       "      <td>2966.53</td>\n",
       "      <td>1.000570</td>\n",
       "    </tr>\n",
       "  </tbody>\n",
       "</table>\n",
       "</div>"
      ],
      "text/plain": [
       "                 Mean      MCSE   StdDev      MAD       5%       50%      95%  \\\n",
       "u_alpha[1]  -0.023379  0.074523  5.04577  4.95809 -8.23995  0.044327  8.13835   \n",
       "u_alpha[2]   0.007868  0.073826  5.09773  5.22023 -8.40797  0.133647  8.21253   \n",
       "u_alpha[3]  -0.098416  0.069473  5.05943  5.02425 -8.29325 -0.117924  8.16219   \n",
       "u_alpha[4]  -0.038635  0.062415  5.03748  5.09103 -8.21872 -0.001939  8.20992   \n",
       "u_alpha[5]  -0.077231  0.069146  4.74783  4.69010 -7.91586 -0.097586  7.70797   \n",
       "u_alpha[6]  -0.015331  0.066825  4.97393  4.97787 -8.27360  0.012158  8.19278   \n",
       "u_alpha[7]   0.030025  0.071406  4.89274  4.87237 -7.93444  0.080379  7.95859   \n",
       "u_alpha[8]  -0.020090  0.077617  5.17444  5.16111 -8.35262 -0.050135  8.71098   \n",
       "u_alpha[9]   0.148045  0.066824  4.87772  4.93652 -7.87756  0.169533  8.00950   \n",
       "u_alpha[10] -0.012971  0.066633  4.92181  4.83816 -8.19841  0.014459  8.26272   \n",
       "\n",
       "             ESS_bulk  ESS_tail     R_hat  \n",
       "u_alpha[1]    4537.72   2815.92  0.999956  \n",
       "u_alpha[2]    4815.97   2886.63  1.000470  \n",
       "u_alpha[3]    5339.64   2775.42  1.001250  \n",
       "u_alpha[4]    6433.37   2971.71  1.002020  \n",
       "u_alpha[5]    4754.00   2763.85  1.003490  \n",
       "u_alpha[6]    5586.62   2773.07  0.999377  \n",
       "u_alpha[7]    4735.29   2970.25  1.000240  \n",
       "u_alpha[8]    4464.99   2723.02  1.000090  \n",
       "u_alpha[9]    5370.03   3297.26  1.000800  \n",
       "u_alpha[10]   5481.37   2966.53  1.000570  "
      ]
     },
     "execution_count": 22,
     "metadata": {},
     "output_type": "execute_result"
    }
   ],
   "source": [
    "param_summary.loc[\"u_alpha[1]\":\"u_alpha[10]\"]"
   ]
  },
  {
   "cell_type": "code",
   "execution_count": null,
   "id": "ca882c15",
   "metadata": {},
   "outputs": [
    {
     "data": {
      "text/plain": [
       "4000"
      ]
     },
     "execution_count": 6,
     "metadata": {},
     "output_type": "execute_result"
    }
   ],
   "source": [
    "alpha = fit.stan_variable(\"alpha\")\n",
    "u_alpha = fit.stan_variable(\"u_alpha\")"
   ]
  },
  {
   "cell_type": "code",
   "execution_count": 7,
   "id": "23e4e4ee",
   "metadata": {},
   "outputs": [
    {
     "data": {
      "text/html": [
       "<div>\n",
       "<style scoped>\n",
       "    .dataframe tbody tr th:only-of-type {\n",
       "        vertical-align: middle;\n",
       "    }\n",
       "\n",
       "    .dataframe tbody tr th {\n",
       "        vertical-align: top;\n",
       "    }\n",
       "\n",
       "    .dataframe thead th {\n",
       "        text-align: right;\n",
       "    }\n",
       "</style>\n",
       "<table border=\"1\" class=\"dataframe\">\n",
       "  <thead>\n",
       "    <tr style=\"text-align: right;\">\n",
       "      <th></th>\n",
       "      <th>0</th>\n",
       "      <th>1</th>\n",
       "      <th>2</th>\n",
       "      <th>3</th>\n",
       "      <th>4</th>\n",
       "      <th>5</th>\n",
       "      <th>6</th>\n",
       "      <th>7</th>\n",
       "      <th>8</th>\n",
       "      <th>9</th>\n",
       "    </tr>\n",
       "  </thead>\n",
       "  <tbody>\n",
       "    <tr>\n",
       "      <th>0</th>\n",
       "      <td>8.400420</td>\n",
       "      <td>-8.333460</td>\n",
       "      <td>0.457442</td>\n",
       "      <td>-4.476710</td>\n",
       "      <td>6.765230</td>\n",
       "      <td>5.345390</td>\n",
       "      <td>-6.310450</td>\n",
       "      <td>-9.852320</td>\n",
       "      <td>2.659140</td>\n",
       "      <td>3.267550</td>\n",
       "    </tr>\n",
       "    <tr>\n",
       "      <th>1</th>\n",
       "      <td>-4.002550</td>\n",
       "      <td>-1.726330</td>\n",
       "      <td>6.718530</td>\n",
       "      <td>7.033710</td>\n",
       "      <td>-5.684270</td>\n",
       "      <td>-5.436140</td>\n",
       "      <td>5.665350</td>\n",
       "      <td>-0.444813</td>\n",
       "      <td>-1.954850</td>\n",
       "      <td>0.054692</td>\n",
       "    </tr>\n",
       "    <tr>\n",
       "      <th>2</th>\n",
       "      <td>4.008320</td>\n",
       "      <td>1.628760</td>\n",
       "      <td>-8.436750</td>\n",
       "      <td>-7.680570</td>\n",
       "      <td>5.763790</td>\n",
       "      <td>7.122860</td>\n",
       "      <td>-4.178650</td>\n",
       "      <td>-0.975434</td>\n",
       "      <td>2.057800</td>\n",
       "      <td>-0.767428</td>\n",
       "    </tr>\n",
       "    <tr>\n",
       "      <th>3</th>\n",
       "      <td>0.145500</td>\n",
       "      <td>-0.179716</td>\n",
       "      <td>-14.516600</td>\n",
       "      <td>3.247390</td>\n",
       "      <td>3.198370</td>\n",
       "      <td>0.079756</td>\n",
       "      <td>0.194387</td>\n",
       "      <td>-0.848436</td>\n",
       "      <td>-2.409420</td>\n",
       "      <td>9.767920</td>\n",
       "    </tr>\n",
       "    <tr>\n",
       "      <th>4</th>\n",
       "      <td>-7.046630</td>\n",
       "      <td>2.290280</td>\n",
       "      <td>11.701700</td>\n",
       "      <td>-5.732520</td>\n",
       "      <td>-11.968800</td>\n",
       "      <td>4.738460</td>\n",
       "      <td>1.770280</td>\n",
       "      <td>-4.339710</td>\n",
       "      <td>3.581800</td>\n",
       "      <td>-7.583880</td>\n",
       "    </tr>\n",
       "    <tr>\n",
       "      <th>...</th>\n",
       "      <td>...</td>\n",
       "      <td>...</td>\n",
       "      <td>...</td>\n",
       "      <td>...</td>\n",
       "      <td>...</td>\n",
       "      <td>...</td>\n",
       "      <td>...</td>\n",
       "      <td>...</td>\n",
       "      <td>...</td>\n",
       "      <td>...</td>\n",
       "    </tr>\n",
       "    <tr>\n",
       "      <th>3995</th>\n",
       "      <td>1.277130</td>\n",
       "      <td>-7.123600</td>\n",
       "      <td>-5.385390</td>\n",
       "      <td>1.935940</td>\n",
       "      <td>0.173397</td>\n",
       "      <td>9.058080</td>\n",
       "      <td>-4.558540</td>\n",
       "      <td>-3.224360</td>\n",
       "      <td>1.381810</td>\n",
       "      <td>-5.368320</td>\n",
       "    </tr>\n",
       "    <tr>\n",
       "      <th>3996</th>\n",
       "      <td>-3.362000</td>\n",
       "      <td>7.200930</td>\n",
       "      <td>11.794300</td>\n",
       "      <td>-1.019270</td>\n",
       "      <td>-5.779250</td>\n",
       "      <td>-12.938000</td>\n",
       "      <td>-5.148300</td>\n",
       "      <td>3.098110</td>\n",
       "      <td>-1.445210</td>\n",
       "      <td>2.718560</td>\n",
       "    </tr>\n",
       "    <tr>\n",
       "      <th>3997</th>\n",
       "      <td>-0.503248</td>\n",
       "      <td>2.385020</td>\n",
       "      <td>12.154400</td>\n",
       "      <td>-0.243773</td>\n",
       "      <td>0.144333</td>\n",
       "      <td>1.726980</td>\n",
       "      <td>-1.857040</td>\n",
       "      <td>-3.520710</td>\n",
       "      <td>8.879790</td>\n",
       "      <td>1.850270</td>\n",
       "    </tr>\n",
       "    <tr>\n",
       "      <th>3998</th>\n",
       "      <td>6.092830</td>\n",
       "      <td>1.643780</td>\n",
       "      <td>3.322960</td>\n",
       "      <td>0.778771</td>\n",
       "      <td>-6.825960</td>\n",
       "      <td>-9.941740</td>\n",
       "      <td>-1.015820</td>\n",
       "      <td>-0.164199</td>\n",
       "      <td>-4.455900</td>\n",
       "      <td>-2.961430</td>\n",
       "    </tr>\n",
       "    <tr>\n",
       "      <th>3999</th>\n",
       "      <td>5.429000</td>\n",
       "      <td>-6.547770</td>\n",
       "      <td>-2.026610</td>\n",
       "      <td>2.982220</td>\n",
       "      <td>-4.439600</td>\n",
       "      <td>-7.722170</td>\n",
       "      <td>-5.381320</td>\n",
       "      <td>2.391000</td>\n",
       "      <td>0.224819</td>\n",
       "      <td>-4.110820</td>\n",
       "    </tr>\n",
       "  </tbody>\n",
       "</table>\n",
       "<p>4000 rows × 10 columns</p>\n",
       "</div>"
      ],
      "text/plain": [
       "             0         1          2         3          4          5         6  \\\n",
       "0     8.400420 -8.333460   0.457442 -4.476710   6.765230   5.345390 -6.310450   \n",
       "1    -4.002550 -1.726330   6.718530  7.033710  -5.684270  -5.436140  5.665350   \n",
       "2     4.008320  1.628760  -8.436750 -7.680570   5.763790   7.122860 -4.178650   \n",
       "3     0.145500 -0.179716 -14.516600  3.247390   3.198370   0.079756  0.194387   \n",
       "4    -7.046630  2.290280  11.701700 -5.732520 -11.968800   4.738460  1.770280   \n",
       "...        ...       ...        ...       ...        ...        ...       ...   \n",
       "3995  1.277130 -7.123600  -5.385390  1.935940   0.173397   9.058080 -4.558540   \n",
       "3996 -3.362000  7.200930  11.794300 -1.019270  -5.779250 -12.938000 -5.148300   \n",
       "3997 -0.503248  2.385020  12.154400 -0.243773   0.144333   1.726980 -1.857040   \n",
       "3998  6.092830  1.643780   3.322960  0.778771  -6.825960  -9.941740 -1.015820   \n",
       "3999  5.429000 -6.547770  -2.026610  2.982220  -4.439600  -7.722170 -5.381320   \n",
       "\n",
       "             7         8         9  \n",
       "0    -9.852320  2.659140  3.267550  \n",
       "1    -0.444813 -1.954850  0.054692  \n",
       "2    -0.975434  2.057800 -0.767428  \n",
       "3    -0.848436 -2.409420  9.767920  \n",
       "4    -4.339710  3.581800 -7.583880  \n",
       "...        ...       ...       ...  \n",
       "3995 -3.224360  1.381810 -5.368320  \n",
       "3996  3.098110 -1.445210  2.718560  \n",
       "3997 -3.520710  8.879790  1.850270  \n",
       "3998 -0.164199 -4.455900 -2.961430  \n",
       "3999  2.391000  0.224819 -4.110820  \n",
       "\n",
       "[4000 rows x 10 columns]"
      ]
     },
     "execution_count": 7,
     "metadata": {},
     "output_type": "execute_result"
    }
   ],
   "source": [
    "\n",
    "df_alphas = pd.DataFrame(alpha)\n",
    "df_ualpha = pd.DataFrame(u_alpha)\n",
    "df_ualpha"
   ]
  },
  {
   "cell_type": "code",
   "execution_count": 9,
   "id": "dffc7ce9",
   "metadata": {},
   "outputs": [
    {
     "name": "stderr",
     "output_type": "stream",
     "text": [
      "C:\\Users\\dimot\\AppData\\Local\\Temp\\ipykernel_6780\\1530867750.py:17: UserWarning: No artists with labels found to put in legend.  Note that artists whose label start with an underscore are ignored when legend() is called with no argument.\n",
      "  plt.legend(title=\"Producto\")\n"
     ]
    },
    {
     "data": {
      "image/png": "[encoded data removed]",
      "text/plain": [
       "<Figure size 1000x600 with 1 Axes>"
      ]
     },
     "metadata": {},
     "output_type": "display_data"
    }
   ],
   "source": [
    "import seaborn as sns\n",
    "import matplotlib.pyplot as plt\n",
    "\n",
    "plt.figure(figsize=(10, 6))\n",
    "\n",
    "for i in range(10):\n",
    "    sns.kdeplot(\n",
    "        data=df_ualpha,\n",
    "        x=i,\n",
    "        fill=True,\n",
    "        common_norm=False,\n",
    "        alpha=0.5\n",
    "    )\n",
    "plt.title(\"Distribuciones posteriores de cada βₗ (por producto)\")\n",
    "plt.xlabel(\"Valor de β\")\n",
    "plt.ylabel(\"Densidad posterior\")\n",
    "plt.legend(title=\"Producto\")\n",
    "plt.tight_layout()\n",
    "plt.show()"
   ]
  },
  {
   "cell_type": "code",
   "execution_count": null,
   "id": "1fbf0eb9",
   "metadata": {},
   "outputs": [
    {
     "data": {
      "text/plain": [
       "(4000, 4659, 1)"
      ]
     },
     "execution_count": 18,
     "metadata": {},
     "output_type": "execute_result"
    }
   ],
   "source": [
    "betas_array.shape"
   ]
  }
 ],
 "metadata": {
  "kernelspec": {
   "display_name": ".venv",
   "language": "python",
   "name": "python3"
  },
  "language_info": {
   "codemirror_mode": {
    "name": "ipython",
    "version": 3
   },
   "file_extension": ".py",
   "mimetype": "text/x-python",
   "name": "python",
   "nbconvert_exporter": "python",
   "pygments_lexer": "ipython3",
   "version": "3.12.1"
  }
 },
 "nbformat": 4,
 "nbformat_minor": 5
}
